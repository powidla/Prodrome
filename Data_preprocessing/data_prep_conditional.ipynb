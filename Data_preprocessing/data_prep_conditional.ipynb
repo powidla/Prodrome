{
  "cells": [
    {
      "cell_type": "code",
      "execution_count": null,
      "id": "e8317448-61b4-4c70-b16a-298163e123f3",
      "metadata": {
        "id": "e8317448-61b4-4c70-b16a-298163e123f3"
      },
      "outputs": [],
      "source": [
        "import pandas as pd\n",
        "\n",
        "import json\n",
        "\n",
        "import numpy as np\n",
        "\n",
        "import matplotlib.pyplot as plt\n",
        "import seaborn as sns\n",
        "\n",
        "from tqdm import tqdm"
      ]
    },
    {
      "cell_type": "code",
      "execution_count": null,
      "id": "35c80f7b-2850-4872-a5f9-f4094b276ac2",
      "metadata": {
        "id": "35c80f7b-2850-4872-a5f9-f4094b276ac2"
      },
      "outputs": [],
      "source": [
        "df = pd.read_csv('timepoints_most_recent.csv', sep=';', parse_dates=['date', 'registrationDate'])"
      ]
    },
    {
      "cell_type": "code",
      "execution_count": null,
      "id": "cb540e8c-2bc8-490f-80ec-84823eae5823",
      "metadata": {
        "colab": {
          "base_uri": "https://localhost:8080/",
          "height": 206
        },
        "id": "cb540e8c-2bc8-490f-80ec-84823eae5823",
        "outputId": "643ab358-3d0b-4460-c003-0be973551ed7"
      },
      "outputs": [
        {
          "output_type": "execute_result",
          "data": {
            "text/plain": [
              "  id       userId       date        time  \\\n",
              "0  1  182416313.0 2019-11-12  '12:00:00'   \n",
              "1  2  182416313.0 2019-11-12  '16:00:00'   \n",
              "2  3  182416313.0 2019-11-12  '20:00:00'   \n",
              "3  4  182416313.0 2019-11-13  '08:00:00'   \n",
              "4  5  150441384.0 2019-11-13  '16:00:00'   \n",
              "\n",
              "                                                data  filled  \\\n",
              "0  '{\\\"date\\\": \\\"2019-11-12\\\", \\\"time\\\": \\\"12:00\\\"}'     0.0   \n",
              "1  '{\\\"date\\\": \\\"2019-11-12\\\", \\\"time\\\": \\\"16:00\\\"}'     0.0   \n",
              "2  '{\\\"date\\\": \\\"2019-11-12\\\", \\\"time\\\": \\\"20:00\\\"}'     0.0   \n",
              "3  '{\\\"date\\\": \\\"2019-11-13\\\", \\\"time\\\": \\\"08:00\\\"}'     0.0   \n",
              "4  '{\\\"date\\\": \\\"2019-11-13\\\", \\\"time\\\": \\\"16:00\\...     1.0   \n",
              "\n",
              "     registrationDate  \n",
              "0 2019-11-12 12:00:01  \n",
              "1 2019-11-12 16:00:01  \n",
              "2 2019-11-13 04:00:01  \n",
              "3 2019-11-13 08:00:02  \n",
              "4 2019-11-13 13:20:10  "
            ],
            "text/html": [
              "\n",
              "\n",
              "  <div id=\"df-188a7312-bd5d-403a-94b1-62f9220571f3\">\n",
              "    <div class=\"colab-df-container\">\n",
              "      <div>\n",
              "<style scoped>\n",
              "    .dataframe tbody tr th:only-of-type {\n",
              "        vertical-align: middle;\n",
              "    }\n",
              "\n",
              "    .dataframe tbody tr th {\n",
              "        vertical-align: top;\n",
              "    }\n",
              "\n",
              "    .dataframe thead th {\n",
              "        text-align: right;\n",
              "    }\n",
              "</style>\n",
              "<table border=\"1\" class=\"dataframe\">\n",
              "  <thead>\n",
              "    <tr style=\"text-align: right;\">\n",
              "      <th></th>\n",
              "      <th>id</th>\n",
              "      <th>userId</th>\n",
              "      <th>date</th>\n",
              "      <th>time</th>\n",
              "      <th>data</th>\n",
              "      <th>filled</th>\n",
              "      <th>registrationDate</th>\n",
              "    </tr>\n",
              "  </thead>\n",
              "  <tbody>\n",
              "    <tr>\n",
              "      <th>0</th>\n",
              "      <td>1</td>\n",
              "      <td>182416313.0</td>\n",
              "      <td>2019-11-12</td>\n",
              "      <td>'12:00:00'</td>\n",
              "      <td>'{\\\"date\\\": \\\"2019-11-12\\\", \\\"time\\\": \\\"12:00\\\"}'</td>\n",
              "      <td>0.0</td>\n",
              "      <td>2019-11-12 12:00:01</td>\n",
              "    </tr>\n",
              "    <tr>\n",
              "      <th>1</th>\n",
              "      <td>2</td>\n",
              "      <td>182416313.0</td>\n",
              "      <td>2019-11-12</td>\n",
              "      <td>'16:00:00'</td>\n",
              "      <td>'{\\\"date\\\": \\\"2019-11-12\\\", \\\"time\\\": \\\"16:00\\\"}'</td>\n",
              "      <td>0.0</td>\n",
              "      <td>2019-11-12 16:00:01</td>\n",
              "    </tr>\n",
              "    <tr>\n",
              "      <th>2</th>\n",
              "      <td>3</td>\n",
              "      <td>182416313.0</td>\n",
              "      <td>2019-11-12</td>\n",
              "      <td>'20:00:00'</td>\n",
              "      <td>'{\\\"date\\\": \\\"2019-11-12\\\", \\\"time\\\": \\\"20:00\\\"}'</td>\n",
              "      <td>0.0</td>\n",
              "      <td>2019-11-13 04:00:01</td>\n",
              "    </tr>\n",
              "    <tr>\n",
              "      <th>3</th>\n",
              "      <td>4</td>\n",
              "      <td>182416313.0</td>\n",
              "      <td>2019-11-13</td>\n",
              "      <td>'08:00:00'</td>\n",
              "      <td>'{\\\"date\\\": \\\"2019-11-13\\\", \\\"time\\\": \\\"08:00\\\"}'</td>\n",
              "      <td>0.0</td>\n",
              "      <td>2019-11-13 08:00:02</td>\n",
              "    </tr>\n",
              "    <tr>\n",
              "      <th>4</th>\n",
              "      <td>5</td>\n",
              "      <td>150441384.0</td>\n",
              "      <td>2019-11-13</td>\n",
              "      <td>'16:00:00'</td>\n",
              "      <td>'{\\\"date\\\": \\\"2019-11-13\\\", \\\"time\\\": \\\"16:00\\...</td>\n",
              "      <td>1.0</td>\n",
              "      <td>2019-11-13 13:20:10</td>\n",
              "    </tr>\n",
              "  </tbody>\n",
              "</table>\n",
              "</div>\n",
              "      <button class=\"colab-df-convert\" onclick=\"convertToInteractive('df-188a7312-bd5d-403a-94b1-62f9220571f3')\"\n",
              "              title=\"Convert this dataframe to an interactive table.\"\n",
              "              style=\"display:none;\">\n",
              "\n",
              "  <svg xmlns=\"http://www.w3.org/2000/svg\" height=\"24px\"viewBox=\"0 0 24 24\"\n",
              "       width=\"24px\">\n",
              "    <path d=\"M0 0h24v24H0V0z\" fill=\"none\"/>\n",
              "    <path d=\"M18.56 5.44l.94 2.06.94-2.06 2.06-.94-2.06-.94-.94-2.06-.94 2.06-2.06.94zm-11 1L8.5 8.5l.94-2.06 2.06-.94-2.06-.94L8.5 2.5l-.94 2.06-2.06.94zm10 10l.94 2.06.94-2.06 2.06-.94-2.06-.94-.94-2.06-.94 2.06-2.06.94z\"/><path d=\"M17.41 7.96l-1.37-1.37c-.4-.4-.92-.59-1.43-.59-.52 0-1.04.2-1.43.59L10.3 9.45l-7.72 7.72c-.78.78-.78 2.05 0 2.83L4 21.41c.39.39.9.59 1.41.59.51 0 1.02-.2 1.41-.59l7.78-7.78 2.81-2.81c.8-.78.8-2.07 0-2.86zM5.41 20L4 18.59l7.72-7.72 1.47 1.35L5.41 20z\"/>\n",
              "  </svg>\n",
              "      </button>\n",
              "\n",
              "\n",
              "\n",
              "    <div id=\"df-f3c3c7ef-1237-4abb-a576-eda228b8c912\">\n",
              "      <button class=\"colab-df-quickchart\" onclick=\"quickchart('df-f3c3c7ef-1237-4abb-a576-eda228b8c912')\"\n",
              "              title=\"Suggest charts.\"\n",
              "              style=\"display:none;\">\n",
              "\n",
              "<svg xmlns=\"http://www.w3.org/2000/svg\" height=\"24px\"viewBox=\"0 0 24 24\"\n",
              "     width=\"24px\">\n",
              "    <g>\n",
              "        <path d=\"M19 3H5c-1.1 0-2 .9-2 2v14c0 1.1.9 2 2 2h14c1.1 0 2-.9 2-2V5c0-1.1-.9-2-2-2zM9 17H7v-7h2v7zm4 0h-2V7h2v10zm4 0h-2v-4h2v4z\"/>\n",
              "    </g>\n",
              "</svg>\n",
              "      </button>\n",
              "    </div>\n",
              "\n",
              "<style>\n",
              "  .colab-df-quickchart {\n",
              "    background-color: #E8F0FE;\n",
              "    border: none;\n",
              "    border-radius: 50%;\n",
              "    cursor: pointer;\n",
              "    display: none;\n",
              "    fill: #1967D2;\n",
              "    height: 32px;\n",
              "    padding: 0 0 0 0;\n",
              "    width: 32px;\n",
              "  }\n",
              "\n",
              "  .colab-df-quickchart:hover {\n",
              "    background-color: #E2EBFA;\n",
              "    box-shadow: 0px 1px 2px rgba(60, 64, 67, 0.3), 0px 1px 3px 1px rgba(60, 64, 67, 0.15);\n",
              "    fill: #174EA6;\n",
              "  }\n",
              "\n",
              "  [theme=dark] .colab-df-quickchart {\n",
              "    background-color: #3B4455;\n",
              "    fill: #D2E3FC;\n",
              "  }\n",
              "\n",
              "  [theme=dark] .colab-df-quickchart:hover {\n",
              "    background-color: #434B5C;\n",
              "    box-shadow: 0px 1px 3px 1px rgba(0, 0, 0, 0.15);\n",
              "    filter: drop-shadow(0px 1px 2px rgba(0, 0, 0, 0.3));\n",
              "    fill: #FFFFFF;\n",
              "  }\n",
              "</style>\n",
              "\n",
              "    <script>\n",
              "      async function quickchart(key) {\n",
              "        const containerElement = document.querySelector('#' + key);\n",
              "        const charts = await google.colab.kernel.invokeFunction(\n",
              "            'suggestCharts', [key], {});\n",
              "      }\n",
              "    </script>\n",
              "\n",
              "      <script>\n",
              "\n",
              "function displayQuickchartButton(domScope) {\n",
              "  let quickchartButtonEl =\n",
              "    domScope.querySelector('#df-f3c3c7ef-1237-4abb-a576-eda228b8c912 button.colab-df-quickchart');\n",
              "  quickchartButtonEl.style.display =\n",
              "    google.colab.kernel.accessAllowed ? 'block' : 'none';\n",
              "}\n",
              "\n",
              "        displayQuickchartButton(document);\n",
              "      </script>\n",
              "      <style>\n",
              "    .colab-df-container {\n",
              "      display:flex;\n",
              "      flex-wrap:wrap;\n",
              "      gap: 12px;\n",
              "    }\n",
              "\n",
              "    .colab-df-convert {\n",
              "      background-color: #E8F0FE;\n",
              "      border: none;\n",
              "      border-radius: 50%;\n",
              "      cursor: pointer;\n",
              "      display: none;\n",
              "      fill: #1967D2;\n",
              "      height: 32px;\n",
              "      padding: 0 0 0 0;\n",
              "      width: 32px;\n",
              "    }\n",
              "\n",
              "    .colab-df-convert:hover {\n",
              "      background-color: #E2EBFA;\n",
              "      box-shadow: 0px 1px 2px rgba(60, 64, 67, 0.3), 0px 1px 3px 1px rgba(60, 64, 67, 0.15);\n",
              "      fill: #174EA6;\n",
              "    }\n",
              "\n",
              "    [theme=dark] .colab-df-convert {\n",
              "      background-color: #3B4455;\n",
              "      fill: #D2E3FC;\n",
              "    }\n",
              "\n",
              "    [theme=dark] .colab-df-convert:hover {\n",
              "      background-color: #434B5C;\n",
              "      box-shadow: 0px 1px 3px 1px rgba(0, 0, 0, 0.15);\n",
              "      filter: drop-shadow(0px 1px 2px rgba(0, 0, 0, 0.3));\n",
              "      fill: #FFFFFF;\n",
              "    }\n",
              "  </style>\n",
              "\n",
              "      <script>\n",
              "        const buttonEl =\n",
              "          document.querySelector('#df-188a7312-bd5d-403a-94b1-62f9220571f3 button.colab-df-convert');\n",
              "        buttonEl.style.display =\n",
              "          google.colab.kernel.accessAllowed ? 'block' : 'none';\n",
              "\n",
              "        async function convertToInteractive(key) {\n",
              "          const element = document.querySelector('#df-188a7312-bd5d-403a-94b1-62f9220571f3');\n",
              "          const dataTable =\n",
              "            await google.colab.kernel.invokeFunction('convertToInteractive',\n",
              "                                                     [key], {});\n",
              "          if (!dataTable) return;\n",
              "\n",
              "          const docLinkHtml = 'Like what you see? Visit the ' +\n",
              "            '<a target=\"_blank\" href=https://colab.research.google.com/notebooks/data_table.ipynb>data table notebook</a>'\n",
              "            + ' to learn more about interactive tables.';\n",
              "          element.innerHTML = '';\n",
              "          dataTable['output_type'] = 'display_data';\n",
              "          await google.colab.output.renderOutput(dataTable, element);\n",
              "          const docLink = document.createElement('div');\n",
              "          docLink.innerHTML = docLinkHtml;\n",
              "          element.appendChild(docLink);\n",
              "        }\n",
              "      </script>\n",
              "    </div>\n",
              "  </div>\n"
            ]
          },
          "metadata": {},
          "execution_count": 3
        }
      ],
      "source": [
        "df.head()"
      ]
    },
    {
      "cell_type": "code",
      "source": [
        "df.shape"
      ],
      "metadata": {
        "colab": {
          "base_uri": "https://localhost:8080/"
        },
        "id": "a1SsA6EG0eoH",
        "outputId": "60a316d7-9153-4c1d-dc7b-290ce4b3c5f2"
      },
      "id": "a1SsA6EG0eoH",
      "execution_count": null,
      "outputs": [
        {
          "output_type": "execute_result",
          "data": {
            "text/plain": [
              "(129124, 7)"
            ]
          },
          "metadata": {},
          "execution_count": 4
        }
      ]
    },
    {
      "cell_type": "code",
      "execution_count": null,
      "id": "6bc1a5ec-6bc5-408b-b489-1eab298f0c1e",
      "metadata": {
        "id": "6bc1a5ec-6bc5-408b-b489-1eab298f0c1e"
      },
      "outputs": [],
      "source": [
        "df['time'] = df['time'].apply(lambda x: x.replace(\"'\", \"\") if type(x)==str else None)"
      ]
    },
    {
      "cell_type": "code",
      "execution_count": null,
      "id": "b88a9a39-4e68-4e22-8899-fa4860c4f9e8",
      "metadata": {
        "colab": {
          "base_uri": "https://localhost:8080/"
        },
        "id": "b88a9a39-4e68-4e22-8899-fa4860c4f9e8",
        "outputId": "fcca6447-2802-4fbe-e7c1-bea7e996eb6d"
      },
      "outputs": [
        {
          "output_type": "execute_result",
          "data": {
            "text/plain": [
              "array(['12:00:00', '16:00:00', '20:00:00', '08:00:00', '21:00:00',\n",
              "       '09:00:00', '15:00:00', '11:00:00', '13:00:00', '14:00:00',\n",
              "       '17:00:00', '19:00:00', '22:00:00', '23:00:00', '10:00:00',\n",
              "       '18:00:00', None], dtype=object)"
            ]
          },
          "metadata": {},
          "execution_count": 6
        }
      ],
      "source": [
        "df['time'].unique()"
      ]
    },
    {
      "cell_type": "code",
      "execution_count": null,
      "id": "65719086-b323-442b-8d3b-edcdf6d4b347",
      "metadata": {
        "colab": {
          "base_uri": "https://localhost:8080/"
        },
        "id": "65719086-b323-442b-8d3b-edcdf6d4b347",
        "outputId": "6dd249e2-e873-4dba-bba0-c902e4a57dc8"
      },
      "outputs": [
        {
          "output_type": "execute_result",
          "data": {
            "text/plain": [
              "21:00:00    42657\n",
              "15:00:00    42634\n",
              "10:00:00    42577\n",
              "20:00:00      277\n",
              "12:00:00      275\n",
              "16:00:00      275\n",
              "08:00:00      262\n",
              "22:00:00       28\n",
              "11:00:00       24\n",
              "23:00:00       22\n",
              "13:00:00       18\n",
              "19:00:00       15\n",
              "17:00:00       14\n",
              "14:00:00       13\n",
              "18:00:00       12\n",
              "09:00:00        3\n",
              "Name: time, dtype: int64"
            ]
          },
          "metadata": {},
          "execution_count": 7
        }
      ],
      "source": [
        "df['time'].value_counts()"
      ]
    },
    {
      "cell_type": "code",
      "execution_count": null,
      "id": "2988ef90-7200-43e0-9601-98d28307a387",
      "metadata": {
        "id": "2988ef90-7200-43e0-9601-98d28307a387"
      },
      "outputs": [],
      "source": [
        "time_used = [\"10:00:00\", \"15:00:00\", \"21:00:00\"]"
      ]
    },
    {
      "cell_type": "code",
      "execution_count": null,
      "id": "7328ec1d-1f8f-4ceb-825c-ed4c5142516b",
      "metadata": {
        "id": "7328ec1d-1f8f-4ceb-825c-ed4c5142516b"
      },
      "outputs": [],
      "source": [
        "df.drop(df[~df.time.isin(time_used)].index, inplace=True)"
      ]
    },
    {
      "cell_type": "code",
      "execution_count": null,
      "id": "87d34976-3b86-452d-ba91-674d21bc7449",
      "metadata": {
        "id": "87d34976-3b86-452d-ba91-674d21bc7449"
      },
      "outputs": [],
      "source": [
        "df.drop(df[df.userId.isna()].index, inplace=True)"
      ]
    },
    {
      "cell_type": "code",
      "execution_count": null,
      "id": "194dc7b0-cc3d-47bc-b00a-bd7f64b177a7",
      "metadata": {
        "id": "194dc7b0-cc3d-47bc-b00a-bd7f64b177a7"
      },
      "outputs": [],
      "source": [
        "df['id'] = df['id'].astype('int')\n",
        "df['userId'] = df['userId'].astype('int')\n",
        "df['filled'] = df['filled'].astype('int')"
      ]
    },
    {
      "cell_type": "code",
      "execution_count": null,
      "id": "7c578739-1b07-4886-87c4-b7795382edec",
      "metadata": {
        "id": "7c578739-1b07-4886-87c4-b7795382edec"
      },
      "outputs": [],
      "source": [
        "df.drop(df[df.filled==0].index, inplace=True)"
      ]
    },
    {
      "cell_type": "code",
      "execution_count": null,
      "id": "d23e96a5-f698-47cc-9116-6d3a7ee7848f",
      "metadata": {
        "colab": {
          "base_uri": "https://localhost:8080/",
          "height": 206
        },
        "id": "d23e96a5-f698-47cc-9116-6d3a7ee7848f",
        "outputId": "f701dbd6-4076-4d5e-a607-e1abaab8fefc"
      },
      "outputs": [
        {
          "output_type": "execute_result",
          "data": {
            "text/plain": [
              "        id     userId       date      time  \\\n",
              "959   1079  199655835 2020-03-25  21:00:00   \n",
              "1074  1199  199655835 2020-04-16  21:00:00   \n",
              "1090  1234  149449069 2020-04-17  21:00:00   \n",
              "1091  1235  199655835 2020-04-17  21:00:00   \n",
              "1110  1254  199655835 2020-04-19  15:00:00   \n",
              "\n",
              "                                                   data  filled  \\\n",
              "959   '{\\\"date\\\": \\\"2020-03-25\\\", \\\"time\\\": \\\"21:00\\...       1   \n",
              "1074  '{\\\"date\\\": \\\"2020-04-16\\\", \\\"time\\\": \\\"21:00\\...       1   \n",
              "1090  '{\\\"date\\\": \\\"2020-04-17\\\", \\\"time\\\": \\\"21:00\\...       1   \n",
              "1091  '{\\\"date\\\": \\\"2020-04-17\\\", \\\"time\\\": \\\"21:00\\...       1   \n",
              "1110  '{\\\"date\\\": \\\"2020-04-19\\\", \\\"time\\\": \\\"15:00\\...       1   \n",
              "\n",
              "        registrationDate  \n",
              "959  2020-03-25 18:02:16  \n",
              "1074 2020-04-16 18:06:10  \n",
              "1090 2020-04-17 18:18:57  \n",
              "1091 2020-04-17 18:19:18  \n",
              "1110 2020-04-19 12:15:23  "
            ],
            "text/html": [
              "\n",
              "\n",
              "  <div id=\"df-0c15dcfd-f5f8-4605-9d3e-56916d51deaa\">\n",
              "    <div class=\"colab-df-container\">\n",
              "      <div>\n",
              "<style scoped>\n",
              "    .dataframe tbody tr th:only-of-type {\n",
              "        vertical-align: middle;\n",
              "    }\n",
              "\n",
              "    .dataframe tbody tr th {\n",
              "        vertical-align: top;\n",
              "    }\n",
              "\n",
              "    .dataframe thead th {\n",
              "        text-align: right;\n",
              "    }\n",
              "</style>\n",
              "<table border=\"1\" class=\"dataframe\">\n",
              "  <thead>\n",
              "    <tr style=\"text-align: right;\">\n",
              "      <th></th>\n",
              "      <th>id</th>\n",
              "      <th>userId</th>\n",
              "      <th>date</th>\n",
              "      <th>time</th>\n",
              "      <th>data</th>\n",
              "      <th>filled</th>\n",
              "      <th>registrationDate</th>\n",
              "    </tr>\n",
              "  </thead>\n",
              "  <tbody>\n",
              "    <tr>\n",
              "      <th>959</th>\n",
              "      <td>1079</td>\n",
              "      <td>199655835</td>\n",
              "      <td>2020-03-25</td>\n",
              "      <td>21:00:00</td>\n",
              "      <td>'{\\\"date\\\": \\\"2020-03-25\\\", \\\"time\\\": \\\"21:00\\...</td>\n",
              "      <td>1</td>\n",
              "      <td>2020-03-25 18:02:16</td>\n",
              "    </tr>\n",
              "    <tr>\n",
              "      <th>1074</th>\n",
              "      <td>1199</td>\n",
              "      <td>199655835</td>\n",
              "      <td>2020-04-16</td>\n",
              "      <td>21:00:00</td>\n",
              "      <td>'{\\\"date\\\": \\\"2020-04-16\\\", \\\"time\\\": \\\"21:00\\...</td>\n",
              "      <td>1</td>\n",
              "      <td>2020-04-16 18:06:10</td>\n",
              "    </tr>\n",
              "    <tr>\n",
              "      <th>1090</th>\n",
              "      <td>1234</td>\n",
              "      <td>149449069</td>\n",
              "      <td>2020-04-17</td>\n",
              "      <td>21:00:00</td>\n",
              "      <td>'{\\\"date\\\": \\\"2020-04-17\\\", \\\"time\\\": \\\"21:00\\...</td>\n",
              "      <td>1</td>\n",
              "      <td>2020-04-17 18:18:57</td>\n",
              "    </tr>\n",
              "    <tr>\n",
              "      <th>1091</th>\n",
              "      <td>1235</td>\n",
              "      <td>199655835</td>\n",
              "      <td>2020-04-17</td>\n",
              "      <td>21:00:00</td>\n",
              "      <td>'{\\\"date\\\": \\\"2020-04-17\\\", \\\"time\\\": \\\"21:00\\...</td>\n",
              "      <td>1</td>\n",
              "      <td>2020-04-17 18:19:18</td>\n",
              "    </tr>\n",
              "    <tr>\n",
              "      <th>1110</th>\n",
              "      <td>1254</td>\n",
              "      <td>199655835</td>\n",
              "      <td>2020-04-19</td>\n",
              "      <td>15:00:00</td>\n",
              "      <td>'{\\\"date\\\": \\\"2020-04-19\\\", \\\"time\\\": \\\"15:00\\...</td>\n",
              "      <td>1</td>\n",
              "      <td>2020-04-19 12:15:23</td>\n",
              "    </tr>\n",
              "  </tbody>\n",
              "</table>\n",
              "</div>\n",
              "      <button class=\"colab-df-convert\" onclick=\"convertToInteractive('df-0c15dcfd-f5f8-4605-9d3e-56916d51deaa')\"\n",
              "              title=\"Convert this dataframe to an interactive table.\"\n",
              "              style=\"display:none;\">\n",
              "\n",
              "  <svg xmlns=\"http://www.w3.org/2000/svg\" height=\"24px\"viewBox=\"0 0 24 24\"\n",
              "       width=\"24px\">\n",
              "    <path d=\"M0 0h24v24H0V0z\" fill=\"none\"/>\n",
              "    <path d=\"M18.56 5.44l.94 2.06.94-2.06 2.06-.94-2.06-.94-.94-2.06-.94 2.06-2.06.94zm-11 1L8.5 8.5l.94-2.06 2.06-.94-2.06-.94L8.5 2.5l-.94 2.06-2.06.94zm10 10l.94 2.06.94-2.06 2.06-.94-2.06-.94-.94-2.06-.94 2.06-2.06.94z\"/><path d=\"M17.41 7.96l-1.37-1.37c-.4-.4-.92-.59-1.43-.59-.52 0-1.04.2-1.43.59L10.3 9.45l-7.72 7.72c-.78.78-.78 2.05 0 2.83L4 21.41c.39.39.9.59 1.41.59.51 0 1.02-.2 1.41-.59l7.78-7.78 2.81-2.81c.8-.78.8-2.07 0-2.86zM5.41 20L4 18.59l7.72-7.72 1.47 1.35L5.41 20z\"/>\n",
              "  </svg>\n",
              "      </button>\n",
              "\n",
              "\n",
              "\n",
              "    <div id=\"df-8db7550b-8b46-4945-a835-ba216cb805f6\">\n",
              "      <button class=\"colab-df-quickchart\" onclick=\"quickchart('df-8db7550b-8b46-4945-a835-ba216cb805f6')\"\n",
              "              title=\"Suggest charts.\"\n",
              "              style=\"display:none;\">\n",
              "\n",
              "<svg xmlns=\"http://www.w3.org/2000/svg\" height=\"24px\"viewBox=\"0 0 24 24\"\n",
              "     width=\"24px\">\n",
              "    <g>\n",
              "        <path d=\"M19 3H5c-1.1 0-2 .9-2 2v14c0 1.1.9 2 2 2h14c1.1 0 2-.9 2-2V5c0-1.1-.9-2-2-2zM9 17H7v-7h2v7zm4 0h-2V7h2v10zm4 0h-2v-4h2v4z\"/>\n",
              "    </g>\n",
              "</svg>\n",
              "      </button>\n",
              "    </div>\n",
              "\n",
              "<style>\n",
              "  .colab-df-quickchart {\n",
              "    background-color: #E8F0FE;\n",
              "    border: none;\n",
              "    border-radius: 50%;\n",
              "    cursor: pointer;\n",
              "    display: none;\n",
              "    fill: #1967D2;\n",
              "    height: 32px;\n",
              "    padding: 0 0 0 0;\n",
              "    width: 32px;\n",
              "  }\n",
              "\n",
              "  .colab-df-quickchart:hover {\n",
              "    background-color: #E2EBFA;\n",
              "    box-shadow: 0px 1px 2px rgba(60, 64, 67, 0.3), 0px 1px 3px 1px rgba(60, 64, 67, 0.15);\n",
              "    fill: #174EA6;\n",
              "  }\n",
              "\n",
              "  [theme=dark] .colab-df-quickchart {\n",
              "    background-color: #3B4455;\n",
              "    fill: #D2E3FC;\n",
              "  }\n",
              "\n",
              "  [theme=dark] .colab-df-quickchart:hover {\n",
              "    background-color: #434B5C;\n",
              "    box-shadow: 0px 1px 3px 1px rgba(0, 0, 0, 0.15);\n",
              "    filter: drop-shadow(0px 1px 2px rgba(0, 0, 0, 0.3));\n",
              "    fill: #FFFFFF;\n",
              "  }\n",
              "</style>\n",
              "\n",
              "    <script>\n",
              "      async function quickchart(key) {\n",
              "        const containerElement = document.querySelector('#' + key);\n",
              "        const charts = await google.colab.kernel.invokeFunction(\n",
              "            'suggestCharts', [key], {});\n",
              "      }\n",
              "    </script>\n",
              "\n",
              "      <script>\n",
              "\n",
              "function displayQuickchartButton(domScope) {\n",
              "  let quickchartButtonEl =\n",
              "    domScope.querySelector('#df-8db7550b-8b46-4945-a835-ba216cb805f6 button.colab-df-quickchart');\n",
              "  quickchartButtonEl.style.display =\n",
              "    google.colab.kernel.accessAllowed ? 'block' : 'none';\n",
              "}\n",
              "\n",
              "        displayQuickchartButton(document);\n",
              "      </script>\n",
              "      <style>\n",
              "    .colab-df-container {\n",
              "      display:flex;\n",
              "      flex-wrap:wrap;\n",
              "      gap: 12px;\n",
              "    }\n",
              "\n",
              "    .colab-df-convert {\n",
              "      background-color: #E8F0FE;\n",
              "      border: none;\n",
              "      border-radius: 50%;\n",
              "      cursor: pointer;\n",
              "      display: none;\n",
              "      fill: #1967D2;\n",
              "      height: 32px;\n",
              "      padding: 0 0 0 0;\n",
              "      width: 32px;\n",
              "    }\n",
              "\n",
              "    .colab-df-convert:hover {\n",
              "      background-color: #E2EBFA;\n",
              "      box-shadow: 0px 1px 2px rgba(60, 64, 67, 0.3), 0px 1px 3px 1px rgba(60, 64, 67, 0.15);\n",
              "      fill: #174EA6;\n",
              "    }\n",
              "\n",
              "    [theme=dark] .colab-df-convert {\n",
              "      background-color: #3B4455;\n",
              "      fill: #D2E3FC;\n",
              "    }\n",
              "\n",
              "    [theme=dark] .colab-df-convert:hover {\n",
              "      background-color: #434B5C;\n",
              "      box-shadow: 0px 1px 3px 1px rgba(0, 0, 0, 0.15);\n",
              "      filter: drop-shadow(0px 1px 2px rgba(0, 0, 0, 0.3));\n",
              "      fill: #FFFFFF;\n",
              "    }\n",
              "  </style>\n",
              "\n",
              "      <script>\n",
              "        const buttonEl =\n",
              "          document.querySelector('#df-0c15dcfd-f5f8-4605-9d3e-56916d51deaa button.colab-df-convert');\n",
              "        buttonEl.style.display =\n",
              "          google.colab.kernel.accessAllowed ? 'block' : 'none';\n",
              "\n",
              "        async function convertToInteractive(key) {\n",
              "          const element = document.querySelector('#df-0c15dcfd-f5f8-4605-9d3e-56916d51deaa');\n",
              "          const dataTable =\n",
              "            await google.colab.kernel.invokeFunction('convertToInteractive',\n",
              "                                                     [key], {});\n",
              "          if (!dataTable) return;\n",
              "\n",
              "          const docLinkHtml = 'Like what you see? Visit the ' +\n",
              "            '<a target=\"_blank\" href=https://colab.research.google.com/notebooks/data_table.ipynb>data table notebook</a>'\n",
              "            + ' to learn more about interactive tables.';\n",
              "          element.innerHTML = '';\n",
              "          dataTable['output_type'] = 'display_data';\n",
              "          await google.colab.output.renderOutput(dataTable, element);\n",
              "          const docLink = document.createElement('div');\n",
              "          docLink.innerHTML = docLinkHtml;\n",
              "          element.appendChild(docLink);\n",
              "        }\n",
              "      </script>\n",
              "    </div>\n",
              "  </div>\n"
            ]
          },
          "metadata": {},
          "execution_count": 13
        }
      ],
      "source": [
        "df.head()"
      ]
    },
    {
      "cell_type": "code",
      "execution_count": null,
      "id": "83804828-0711-4150-92f1-91f634491362",
      "metadata": {
        "colab": {
          "base_uri": "https://localhost:8080/"
        },
        "id": "83804828-0711-4150-92f1-91f634491362",
        "outputId": "60fb1b4f-9bfe-4078-ac0a-0fecbd5bb392"
      },
      "outputs": [
        {
          "output_type": "execute_result",
          "data": {
            "text/plain": [
              "(40829, 7)"
            ]
          },
          "metadata": {},
          "execution_count": 14
        }
      ],
      "source": [
        "df.shape"
      ]
    },
    {
      "cell_type": "code",
      "execution_count": null,
      "id": "9883b961-c52c-4fab-8f47-1b3b765801ec",
      "metadata": {
        "id": "9883b961-c52c-4fab-8f47-1b3b765801ec"
      },
      "outputs": [],
      "source": [
        "df.sort_values(['userId', 'date', 'time'], inplace=True)\n",
        "df.reset_index(inplace=True, drop=True)"
      ]
    },
    {
      "cell_type": "code",
      "execution_count": null,
      "id": "1428f090-5d73-494d-8342-31188127b69a",
      "metadata": {
        "id": "1428f090-5d73-494d-8342-31188127b69a"
      },
      "outputs": [],
      "source": [
        "d = df.groupby('userId').agg({'date': ['min', 'max']})"
      ]
    },
    {
      "cell_type": "code",
      "execution_count": null,
      "id": "c303729d-a773-44da-82ed-4b1dd1f856e3",
      "metadata": {
        "colab": {
          "base_uri": "https://localhost:8080/"
        },
        "id": "c303729d-a773-44da-82ed-4b1dd1f856e3",
        "outputId": "cc4a6a68-89ff-43c7-c54c-d394bbb06cf1"
      },
      "outputs": [
        {
          "output_type": "stream",
          "name": "stderr",
          "text": [
            "<ipython-input-17-50898ae2e435>:1: FutureWarning: Treating datetime data as categorical rather than numeric in `.describe` is deprecated and will be removed in a future version of pandas. Specify `datetime_is_numeric=True` to silence this warning and adopt the future behavior now.\n",
            "  d['date']['min'].describe()\n"
          ]
        },
        {
          "output_type": "execute_result",
          "data": {
            "text/plain": [
              "count                     537\n",
              "unique                     94\n",
              "top       2023-02-10 00:00:00\n",
              "freq                       68\n",
              "first     2020-03-25 00:00:00\n",
              "last      2023-06-13 00:00:00\n",
              "Name: min, dtype: object"
            ]
          },
          "metadata": {},
          "execution_count": 17
        }
      ],
      "source": [
        "d['date']['min'].describe()"
      ]
    },
    {
      "cell_type": "code",
      "execution_count": null,
      "id": "bbf1a1e6-498b-43ee-9b32-3c59a3677f46",
      "metadata": {
        "colab": {
          "base_uri": "https://localhost:8080/"
        },
        "id": "bbf1a1e6-498b-43ee-9b32-3c59a3677f46",
        "outputId": "89bc9f8c-b1e1-4f07-e32d-5f2217ef2cd6"
      },
      "outputs": [
        {
          "output_type": "stream",
          "name": "stderr",
          "text": [
            "<ipython-input-18-f855271c48bf>:1: FutureWarning: Treating datetime data as categorical rather than numeric in `.describe` is deprecated and will be removed in a future version of pandas. Specify `datetime_is_numeric=True` to silence this warning and adopt the future behavior now.\n",
            "  d['date']['max'].describe()\n"
          ]
        },
        {
          "output_type": "execute_result",
          "data": {
            "text/plain": [
              "count                     537\n",
              "unique                    204\n",
              "top       2023-07-07 00:00:00\n",
              "freq                       18\n",
              "first     2020-04-17 00:00:00\n",
              "last      2023-07-07 00:00:00\n",
              "Name: max, dtype: object"
            ]
          },
          "metadata": {},
          "execution_count": 18
        }
      ],
      "source": [
        "d['date']['max'].describe()"
      ]
    },
    {
      "cell_type": "code",
      "execution_count": null,
      "id": "f5a609fa-a33c-47db-a757-2f8e8323cb12",
      "metadata": {
        "colab": {
          "base_uri": "https://localhost:8080/",
          "height": 447
        },
        "id": "f5a609fa-a33c-47db-a757-2f8e8323cb12",
        "outputId": "84f4b8f4-d3e0-4a34-a1fc-7d6aad8afea4"
      },
      "outputs": [
        {
          "output_type": "execute_result",
          "data": {
            "text/plain": [
              "<matplotlib.collections.PathCollection at 0x7ad582207a60>"
            ]
          },
          "metadata": {},
          "execution_count": 19
        },
        {
          "output_type": "display_data",
          "data": {
            "text/plain": [
              "<Figure size 640x480 with 1 Axes>"
            ],
            "image/png": "[encoded data removed]"
          },
          "metadata": {}
        }
      ],
      "source": [
        "d = df.groupby('date').userId.count().value_counts()\n",
        "plt.scatter(d.index, d.values)"
      ]
    },
    {
      "cell_type": "code",
      "execution_count": null,
      "id": "4f43b4e3-ace2-4332-9fdc-dbd541d5ac0e",
      "metadata": {
        "colab": {
          "base_uri": "https://localhost:8080/",
          "height": 447
        },
        "id": "4f43b4e3-ace2-4332-9fdc-dbd541d5ac0e",
        "outputId": "22be47f7-9a5b-4a0c-d50b-2092a26395d9"
      },
      "outputs": [
        {
          "output_type": "execute_result",
          "data": {
            "text/plain": [
              "<matplotlib.collections.PathCollection at 0x7ad5820a1960>"
            ]
          },
          "metadata": {},
          "execution_count": 20
        },
        {
          "output_type": "display_data",
          "data": {
            "text/plain": [
              "<Figure size 640x480 with 1 Axes>"
            ],
            "image/png": "[encoded data removed]"
          },
          "metadata": {}
        }
      ],
      "source": [
        "d = df.groupby('date').userId.count()\n",
        "plt.scatter(d.index, d.values)"
      ]
    },
    {
      "cell_type": "code",
      "execution_count": null,
      "id": "73510a03-a12e-427e-9710-5b533d939156",
      "metadata": {
        "id": "73510a03-a12e-427e-9710-5b533d939156"
      },
      "outputs": [],
      "source": [
        "dt_start = '2020-05-01'\n",
        "dt_end = '2021-07-07'"
      ]
    },
    {
      "cell_type": "code",
      "execution_count": null,
      "id": "b6baf94c-194f-4ef8-bd34-c1d1dc33b6ea",
      "metadata": {
        "colab": {
          "base_uri": "https://localhost:8080/",
          "height": 447
        },
        "id": "b6baf94c-194f-4ef8-bd34-c1d1dc33b6ea",
        "outputId": "8e22a9a2-cd25-4002-c55e-4904c7b50543"
      },
      "outputs": [
        {
          "output_type": "execute_result",
          "data": {
            "text/plain": [
              "<matplotlib.collections.PathCollection at 0x7ad581fbfee0>"
            ]
          },
          "metadata": {},
          "execution_count": 22
        },
        {
          "output_type": "display_data",
          "data": {
            "text/plain": [
              "<Figure size 640x480 with 1 Axes>"
            ],
            "image/png": "[encoded data removed]"
          },
          "metadata": {}
        }
      ],
      "source": [
        "d = df[(df.date>=dt_start)\n",
        "   &(df.date<=dt_end)\n",
        "  ].groupby('date').userId.count()\n",
        "plt.scatter(d.index, d.values)"
      ]
    },
    {
      "cell_type": "code",
      "execution_count": null,
      "id": "051a5b97-919c-456a-b46f-763fb0897a8a",
      "metadata": {
        "id": "051a5b97-919c-456a-b46f-763fb0897a8a"
      },
      "outputs": [],
      "source": [
        "df.drop(df[(df.date<dt_start)|(df.date>dt_end)].index, inplace=True)\n",
        "df.reset_index(inplace=True, drop=True)"
      ]
    },
    {
      "cell_type": "code",
      "execution_count": null,
      "id": "21ebc024-e1e9-4e94-b0ea-6761e2918bca",
      "metadata": {
        "colab": {
          "base_uri": "https://localhost:8080/"
        },
        "id": "21ebc024-e1e9-4e94-b0ea-6761e2918bca",
        "outputId": "550fa292-277d-4a69-fc68-bf29c8c744eb"
      },
      "outputs": [
        {
          "output_type": "execute_result",
          "data": {
            "text/plain": [
              "12323"
            ]
          },
          "metadata": {},
          "execution_count": 24
        }
      ],
      "source": [
        "df.userId.count()"
      ]
    },
    {
      "cell_type": "code",
      "execution_count": null,
      "id": "129cf7bc-40fa-46a7-8a25-5d8267af28fa",
      "metadata": {
        "id": "129cf7bc-40fa-46a7-8a25-5d8267af28fa"
      },
      "outputs": [],
      "source": [
        "Ndays_filled = 30\n",
        "perc_filled = 0.8"
      ]
    },
    {
      "cell_type": "code",
      "execution_count": null,
      "id": "516e35bb-0a73-4e0f-94b0-d2efcc99efed",
      "metadata": {
        "id": "516e35bb-0a73-4e0f-94b0-d2efcc99efed"
      },
      "outputs": [],
      "source": [
        "df_agg = df.groupby(['userId', 'date'], as_index=False).filled.count()"
      ]
    },
    {
      "cell_type": "code",
      "execution_count": null,
      "id": "ca0b87f1-5fec-4b50-8c96-018ab73c4cf4",
      "metadata": {
        "id": "ca0b87f1-5fec-4b50-8c96-018ab73c4cf4"
      },
      "outputs": [],
      "source": [
        "fitting_users = []\n",
        "for userId, subdf in df_agg.groupby('userId'):\n",
        "    d = subdf.set_index('date')\n",
        "\n",
        "    d = d.rolling(f'{Ndays_filled}D').filled.count() / Ndays_filled\n",
        "\n",
        "    if d[d > perc_filled].shape[0] > 0:\n",
        "        fitting_users.append((userId, d[d > perc_filled].index))"
      ]
    },
    {
      "cell_type": "code",
      "execution_count": null,
      "id": "b0c76055-d730-4be5-9707-ccde5be5245f",
      "metadata": {
        "colab": {
          "base_uri": "https://localhost:8080/"
        },
        "id": "b0c76055-d730-4be5-9707-ccde5be5245f",
        "outputId": "ba8ed19f-d404-4db9-8fbe-2488a00ebcda"
      },
      "outputs": [
        {
          "output_type": "execute_result",
          "data": {
            "text/plain": [
              "74"
            ]
          },
          "metadata": {},
          "execution_count": 28
        }
      ],
      "source": [
        "len(fitting_users)"
      ]
    },
    {
      "cell_type": "code",
      "execution_count": null,
      "id": "c6cd0f21-7b68-4040-8815-1fe9b4b77e39",
      "metadata": {
        "id": "c6cd0f21-7b68-4040-8815-1fe9b4b77e39"
      },
      "outputs": [],
      "source": [
        "users_s = sorted([el[0] for el in fitting_users])"
      ]
    },
    {
      "cell_type": "code",
      "execution_count": null,
      "id": "43a1dbaa-bab8-4a5a-81f6-b40616ea2dd1",
      "metadata": {
        "id": "43a1dbaa-bab8-4a5a-81f6-b40616ea2dd1"
      },
      "outputs": [],
      "source": [
        "selected = [44614239,\n",
        "35514898,\n",
        "94273782,\n",
        "259472844,\n",
        "284555357,\n",
        "303220403,\n",
        "413610745,\n",
        "478597130,\n",
        "773340705,\n",
        "969620182,\n",
        "1058477944,\n",
        "1076665216,\n",
        "260120699,\n",
        "131826899,\n",
        "1127819258,\n",
        "391075937,\n",
        "267308463,\n",
        "215466404,\n",
        "42764767,\n",
        "202814558,\n",
        "156177903,\n",
        "81653795,\n",
        "98569689,\n",
        "147041049,\n",
        "167990105,\n",
        "211512347,\n",
        "317572634,\n",
        "350234573,\n",
        "358722270,\n",
        "449332908,\n",
        "454712830,\n",
        "576890187,\n",
        "782514447,\n",
        "1026553457,\n",
        "1111398682,\n",
        "354202773,\n",
        "268374225,\n",
        "239315927,\n",
        "202940937,\n",
        "523041949,\n",
        "1109337656,\n",
        "1013344373,\n",
        "858942023,\n",
        "819982046,\n",
        "653201724,\n",
        "282455460,\n",
        "313654972,\n",
        "238407825,\n",
        "299923822,\n",
        "378631887,\n",
        "405617914,\n",
        "486276436,\n",
        "510903024,\n",
        "542001437,\n",
        "545905349,\n",
        "779395113,\n",
        "1233119826,\n",
        "545675494,\n",
        "539894990,\n",
        "526856269,\n",
        "360711532,\n",
        "128900361,\n",
        "653201724,\n",
        "57795829]\n"
      ]
    },
    {
      "cell_type": "code",
      "execution_count": null,
      "id": "00abb4da-56bb-4bbb-9a1c-3f28249d2fa8",
      "metadata": {
        "id": "00abb4da-56bb-4bbb-9a1c-3f28249d2fa8"
      },
      "outputs": [],
      "source": [
        "ns = 0\n",
        "for u in selected:\n",
        "    if u in users_s:\n",
        "        ns += 1"
      ]
    },
    {
      "cell_type": "code",
      "execution_count": null,
      "id": "8b3ac375-c3fb-413a-a98d-e0f90dcd8fe9",
      "metadata": {
        "colab": {
          "base_uri": "https://localhost:8080/"
        },
        "id": "8b3ac375-c3fb-413a-a98d-e0f90dcd8fe9",
        "outputId": "02912992-0b2e-4523-a923-b5e99d4c59cd"
      },
      "outputs": [
        {
          "output_type": "execute_result",
          "data": {
            "text/plain": [
              "64"
            ]
          },
          "metadata": {},
          "execution_count": 33
        }
      ],
      "source": [
        "ns"
      ]
    },
    {
      "cell_type": "code",
      "execution_count": null,
      "id": "09d57c84-bc45-4379-9493-fb8c6f26c736",
      "metadata": {
        "colab": {
          "base_uri": "https://localhost:8080/"
        },
        "id": "09d57c84-bc45-4379-9493-fb8c6f26c736",
        "outputId": "4e138316-1c89-4565-e516-91ea28e871af"
      },
      "outputs": [
        {
          "output_type": "execute_result",
          "data": {
            "text/plain": [
              "64"
            ]
          },
          "metadata": {},
          "execution_count": 34
        }
      ],
      "source": [
        "len(selected)"
      ]
    },
    {
      "cell_type": "code",
      "execution_count": null,
      "id": "1f2b1199-9edb-41c2-abf0-810beb15fc34",
      "metadata": {
        "id": "1f2b1199-9edb-41c2-abf0-810beb15fc34"
      },
      "outputs": [],
      "source": [
        "df.drop(df[~df.userId.isin(users_s)].index, inplace=True)"
      ]
    },
    {
      "cell_type": "code",
      "execution_count": null,
      "id": "d069ee26-7098-42f8-88ce-dee89baa8d37",
      "metadata": {
        "colab": {
          "base_uri": "https://localhost:8080/"
        },
        "id": "d069ee26-7098-42f8-88ce-dee89baa8d37",
        "outputId": "963432ec-ab25-41ec-a2b6-6cc0990329b6"
      },
      "outputs": [
        {
          "output_type": "execute_result",
          "data": {
            "text/plain": [
              "(11822, 7)"
            ]
          },
          "metadata": {},
          "execution_count": 36
        }
      ],
      "source": [
        "df.shape"
      ]
    },
    {
      "cell_type": "code",
      "execution_count": null,
      "id": "e38cbcef-f7e4-402e-ab2b-2806e886eff8",
      "metadata": {
        "colab": {
          "base_uri": "https://localhost:8080/"
        },
        "id": "e38cbcef-f7e4-402e-ab2b-2806e886eff8",
        "outputId": "092a51c5-c024-4edc-99d8-890f64dafe4b"
      },
      "outputs": [
        {
          "output_type": "execute_result",
          "data": {
            "text/plain": [
              "74"
            ]
          },
          "metadata": {},
          "execution_count": 37
        }
      ],
      "source": [
        "df.userId.nunique()"
      ]
    },
    {
      "cell_type": "code",
      "execution_count": null,
      "id": "1f887b7a-d198-46b7-966a-dec8f9bd774b",
      "metadata": {
        "colab": {
          "base_uri": "https://localhost:8080/"
        },
        "id": "1f887b7a-d198-46b7-966a-dec8f9bd774b",
        "outputId": "c90bd19c-fb44-4dea-f510-0270781bc66a"
      },
      "outputs": [
        {
          "output_type": "stream",
          "name": "stderr",
          "text": [
            "11822it [00:00, 12311.20it/s]\n"
          ]
        }
      ],
      "source": [
        "full_json = []\n",
        "for idx, row in tqdm(df.iterrows()):\n",
        "    s = row.data\n",
        "    for i, el in enumerate(s):\n",
        "        if el == '{':\n",
        "            break\n",
        "    for j, el in enumerate(s[::-1]):\n",
        "        if el == '}':\n",
        "            break\n",
        "\n",
        "    s1 = s[i:len(s)-j]\n",
        "    s2 = json.loads(s1.replace('\\\\\"', '\"').replace(\"\\\\'\", \"'\").replace('\\\\\\\\', '\\\\'))\n",
        "    s2.update({'id': row.id})\n",
        "    full_json.append(s2)"
      ]
    },
    {
      "cell_type": "code",
      "execution_count": null,
      "id": "4870efe7-6f41-44ff-9b40-58efe7fc8659",
      "metadata": {
        "colab": {
          "base_uri": "https://localhost:8080/"
        },
        "id": "4870efe7-6f41-44ff-9b40-58efe7fc8659",
        "outputId": "024cd61f-ca5c-4512-ff41-1bea1e992bf7"
      },
      "outputs": [
        {
          "output_type": "execute_result",
          "data": {
            "text/plain": [
              "11822"
            ]
          },
          "metadata": {},
          "execution_count": 39
        }
      ],
      "source": [
        "len(full_json)"
      ]
    },
    {
      "cell_type": "code",
      "execution_count": null,
      "id": "6e519dbd-f53f-40d1-aa04-c0a85c4a9125",
      "metadata": {
        "id": "6e519dbd-f53f-40d1-aa04-c0a85c4a9125"
      },
      "outputs": [],
      "source": [
        "with open('json_data_by_id.json', 'w') as fp:\n",
        "    json.dump(full_json, fp)"
      ]
    },
    {
      "cell_type": "code",
      "execution_count": null,
      "id": "36a3ef02-d7f3-458d-a8bd-346045d9f6fb",
      "metadata": {
        "id": "36a3ef02-d7f3-458d-a8bd-346045d9f6fb"
      },
      "outputs": [],
      "source": [
        "df[['id', 'userId', 'date', 'time', 'filled', 'registrationDate']]\\\n",
        "    .to_csv('df_full.csv', sep=';', index=False)"
      ]
    },
    {
      "cell_type": "code",
      "execution_count": null,
      "id": "f23c39d9-1ca5-4969-94d4-e1e1a3af8f0e",
      "metadata": {
        "id": "f23c39d9-1ca5-4969-94d4-e1e1a3af8f0e"
      },
      "outputs": [],
      "source": [
        "df_data = pd.DataFrame.from_dict(full_json)\n",
        "df_data.to_csv('df_data_tp=-3.csv', sep=';', index=False)"
      ]
    },
    {
      "cell_type": "code",
      "execution_count": null,
      "id": "3ddf3f62-8c35-4e62-9cfe-edab557fe89a",
      "metadata": {
        "colab": {
          "base_uri": "https://localhost:8080/"
        },
        "id": "3ddf3f62-8c35-4e62-9cfe-edab557fe89a",
        "outputId": "06cc9af4-462e-4805-c7f1-01341e1c0c11"
      },
      "outputs": [
        {
          "output_type": "execute_result",
          "data": {
            "text/plain": [
              "          id      userId       date      time  \\\n",
              "0      13018    23395205 2020-10-22  21:00:00   \n",
              "1      13032    23395205 2020-10-23  10:00:00   \n",
              "2      13052    23395205 2020-10-23  15:00:00   \n",
              "3      13074    23395205 2020-10-23  21:00:00   \n",
              "4      13110    23395205 2020-10-24  10:00:00   \n",
              "...      ...         ...        ...       ...   \n",
              "12318  24526  1392085020 2021-03-17  15:00:00   \n",
              "12319  34955  1392085020 2021-08-16  10:00:00   \n",
              "12320  34933  1392085020 2021-08-16  21:00:00   \n",
              "12321  35105  1392085020 2021-08-18  15:00:00   \n",
              "12322  35110  1392085020 2021-08-19  21:00:00   \n",
              "\n",
              "                                                    data  filled  \\\n",
              "0      '{\\\"date\\\": \\\"2020-10-22\\\", \\\"time\\\": \\\"21:00\\...       1   \n",
              "1      '{\\\"date\\\": \\\"2020-10-23\\\", \\\"time\\\": \\\"10:00\\...       1   \n",
              "2      '{\\\"date\\\": \\\"2020-10-23\\\", \\\"time\\\": \\\"15:00\\...       1   \n",
              "3      '{\\\"date\\\": \\\"2020-10-23\\\", \\\"time\\\": \\\"21:00\\...       1   \n",
              "4      '{\\\"date\\\": \\\"2020-10-24\\\", \\\"time\\\": \\\"10:00\\...       1   \n",
              "...                                                  ...     ...   \n",
              "12318  '{\\\"date\\\": \\\"2021-03-17\\\", \\\"time\\\": \\\"15:00\\...       1   \n",
              "12319  '{\\\"date\\\": \\\"2021-08-16\\\", \\\"time\\\": \\\"10:00\\...       1   \n",
              "12320  '{\\\"date\\\": \\\"2021-08-16\\\", \\\"time\\\": \\\"21:00\\...       1   \n",
              "12321  '{\\\"date\\\": \\\"2021-08-18\\\", \\\"time\\\": \\\"15:00\\...       1   \n",
              "12322  '{\\\"date\\\": \\\"2021-08-19\\\", \\\"time\\\": \\\"21:00\\...       1   \n",
              "\n",
              "         registrationDate  \n",
              "0     2020-10-22 18:39:41  \n",
              "1     2020-10-23 07:05:34  \n",
              "2     2020-10-23 12:02:37  \n",
              "3     2020-10-23 18:01:49  \n",
              "4     2020-10-24 07:23:57  \n",
              "...                   ...  \n",
              "12318 2021-03-17 21:34:16  \n",
              "12319 2021-08-16 15:31:58  \n",
              "12320 2021-08-16 11:29:15  \n",
              "12321 2021-08-18 19:05:49  \n",
              "12322 2021-08-19 06:10:00  \n",
              "\n",
              "[11822 rows x 7 columns]"
            ],
            "text/html": [
              "\n",
              "\n",
              "  <div id=\"df-f9659d1d-6179-4b8f-adbf-72acc6c019d2\">\n",
              "    <div class=\"colab-df-container\">\n",
              "      <div>\n",
              "<style scoped>\n",
              "    .dataframe tbody tr th:only-of-type {\n",
              "        vertical-align: middle;\n",
              "    }\n",
              "\n",
              "    .dataframe tbody tr th {\n",
              "        vertical-align: top;\n",
              "    }\n",
              "\n",
              "    .dataframe thead th {\n",
              "        text-align: right;\n",
              "    }\n",
              "</style>\n",
              "<table border=\"1\" class=\"dataframe\">\n",
              "  <thead>\n",
              "    <tr style=\"text-align: right;\">\n",
              "      <th></th>\n",
              "      <th>id</th>\n",
              "      <th>userId</th>\n",
              "      <th>date</th>\n",
              "      <th>time</th>\n",
              "      <th>data</th>\n",
              "      <th>filled</th>\n",
              "      <th>registrationDate</th>\n",
              "    </tr>\n",
              "  </thead>\n",
              "  <tbody>\n",
              "    <tr>\n",
              "      <th>0</th>\n",
              "      <td>13018</td>\n",
              "      <td>23395205</td>\n",
              "      <td>2020-10-22</td>\n",
              "      <td>21:00:00</td>\n",
              "      <td>'{\\\"date\\\": \\\"2020-10-22\\\", \\\"time\\\": \\\"21:00\\...</td>\n",
              "      <td>1</td>\n",
              "      <td>2020-10-22 18:39:41</td>\n",
              "    </tr>\n",
              "    <tr>\n",
              "      <th>1</th>\n",
              "      <td>13032</td>\n",
              "      <td>23395205</td>\n",
              "      <td>2020-10-23</td>\n",
              "      <td>10:00:00</td>\n",
              "      <td>'{\\\"date\\\": \\\"2020-10-23\\\", \\\"time\\\": \\\"10:00\\...</td>\n",
              "      <td>1</td>\n",
              "      <td>2020-10-23 07:05:34</td>\n",
              "    </tr>\n",
              "    <tr>\n",
              "      <th>2</th>\n",
              "      <td>13052</td>\n",
              "      <td>23395205</td>\n",
              "      <td>2020-10-23</td>\n",
              "      <td>15:00:00</td>\n",
              "      <td>'{\\\"date\\\": \\\"2020-10-23\\\", \\\"time\\\": \\\"15:00\\...</td>\n",
              "      <td>1</td>\n",
              "      <td>2020-10-23 12:02:37</td>\n",
              "    </tr>\n",
              "    <tr>\n",
              "      <th>3</th>\n",
              "      <td>13074</td>\n",
              "      <td>23395205</td>\n",
              "      <td>2020-10-23</td>\n",
              "      <td>21:00:00</td>\n",
              "      <td>'{\\\"date\\\": \\\"2020-10-23\\\", \\\"time\\\": \\\"21:00\\...</td>\n",
              "      <td>1</td>\n",
              "      <td>2020-10-23 18:01:49</td>\n",
              "    </tr>\n",
              "    <tr>\n",
              "      <th>4</th>\n",
              "      <td>13110</td>\n",
              "      <td>23395205</td>\n",
              "      <td>2020-10-24</td>\n",
              "      <td>10:00:00</td>\n",
              "      <td>'{\\\"date\\\": \\\"2020-10-24\\\", \\\"time\\\": \\\"10:00\\...</td>\n",
              "      <td>1</td>\n",
              "      <td>2020-10-24 07:23:57</td>\n",
              "    </tr>\n",
              "    <tr>\n",
              "      <th>...</th>\n",
              "      <td>...</td>\n",
              "      <td>...</td>\n",
              "      <td>...</td>\n",
              "      <td>...</td>\n",
              "      <td>...</td>\n",
              "      <td>...</td>\n",
              "      <td>...</td>\n",
              "    </tr>\n",
              "    <tr>\n",
              "      <th>12318</th>\n",
              "      <td>24526</td>\n",
              "      <td>1392085020</td>\n",
              "      <td>2021-03-17</td>\n",
              "      <td>15:00:00</td>\n",
              "      <td>'{\\\"date\\\": \\\"2021-03-17\\\", \\\"time\\\": \\\"15:00\\...</td>\n",
              "      <td>1</td>\n",
              "      <td>2021-03-17 21:34:16</td>\n",
              "    </tr>\n",
              "    <tr>\n",
              "      <th>12319</th>\n",
              "      <td>34955</td>\n",
              "      <td>1392085020</td>\n",
              "      <td>2021-08-16</td>\n",
              "      <td>10:00:00</td>\n",
              "      <td>'{\\\"date\\\": \\\"2021-08-16\\\", \\\"time\\\": \\\"10:00\\...</td>\n",
              "      <td>1</td>\n",
              "      <td>2021-08-16 15:31:58</td>\n",
              "    </tr>\n",
              "    <tr>\n",
              "      <th>12320</th>\n",
              "      <td>34933</td>\n",
              "      <td>1392085020</td>\n",
              "      <td>2021-08-16</td>\n",
              "      <td>21:00:00</td>\n",
              "      <td>'{\\\"date\\\": \\\"2021-08-16\\\", \\\"time\\\": \\\"21:00\\...</td>\n",
              "      <td>1</td>\n",
              "      <td>2021-08-16 11:29:15</td>\n",
              "    </tr>\n",
              "    <tr>\n",
              "      <th>12321</th>\n",
              "      <td>35105</td>\n",
              "      <td>1392085020</td>\n",
              "      <td>2021-08-18</td>\n",
              "      <td>15:00:00</td>\n",
              "      <td>'{\\\"date\\\": \\\"2021-08-18\\\", \\\"time\\\": \\\"15:00\\...</td>\n",
              "      <td>1</td>\n",
              "      <td>2021-08-18 19:05:49</td>\n",
              "    </tr>\n",
              "    <tr>\n",
              "      <th>12322</th>\n",
              "      <td>35110</td>\n",
              "      <td>1392085020</td>\n",
              "      <td>2021-08-19</td>\n",
              "      <td>21:00:00</td>\n",
              "      <td>'{\\\"date\\\": \\\"2021-08-19\\\", \\\"time\\\": \\\"21:00\\...</td>\n",
              "      <td>1</td>\n",
              "      <td>2021-08-19 06:10:00</td>\n",
              "    </tr>\n",
              "  </tbody>\n",
              "</table>\n",
              "<p>11822 rows × 7 columns</p>\n",
              "</div>\n",
              "      <button class=\"colab-df-convert\" onclick=\"convertToInteractive('df-f9659d1d-6179-4b8f-adbf-72acc6c019d2')\"\n",
              "              title=\"Convert this dataframe to an interactive table.\"\n",
              "              style=\"display:none;\">\n",
              "\n",
              "  <svg xmlns=\"http://www.w3.org/2000/svg\" height=\"24px\"viewBox=\"0 0 24 24\"\n",
              "       width=\"24px\">\n",
              "    <path d=\"M0 0h24v24H0V0z\" fill=\"none\"/>\n",
              "    <path d=\"M18.56 5.44l.94 2.06.94-2.06 2.06-.94-2.06-.94-.94-2.06-.94 2.06-2.06.94zm-11 1L8.5 8.5l.94-2.06 2.06-.94-2.06-.94L8.5 2.5l-.94 2.06-2.06.94zm10 10l.94 2.06.94-2.06 2.06-.94-2.06-.94-.94-2.06-.94 2.06-2.06.94z\"/><path d=\"M17.41 7.96l-1.37-1.37c-.4-.4-.92-.59-1.43-.59-.52 0-1.04.2-1.43.59L10.3 9.45l-7.72 7.72c-.78.78-.78 2.05 0 2.83L4 21.41c.39.39.9.59 1.41.59.51 0 1.02-.2 1.41-.59l7.78-7.78 2.81-2.81c.8-.78.8-2.07 0-2.86zM5.41 20L4 18.59l7.72-7.72 1.47 1.35L5.41 20z\"/>\n",
              "  </svg>\n",
              "      </button>\n",
              "\n",
              "\n",
              "\n",
              "    <div id=\"df-4eaf68bb-f6c2-44e1-9b52-2aab7a9cd559\">\n",
              "      <button class=\"colab-df-quickchart\" onclick=\"quickchart('df-4eaf68bb-f6c2-44e1-9b52-2aab7a9cd559')\"\n",
              "              title=\"Suggest charts.\"\n",
              "              style=\"display:none;\">\n",
              "\n",
              "<svg xmlns=\"http://www.w3.org/2000/svg\" height=\"24px\"viewBox=\"0 0 24 24\"\n",
              "     width=\"24px\">\n",
              "    <g>\n",
              "        <path d=\"M19 3H5c-1.1 0-2 .9-2 2v14c0 1.1.9 2 2 2h14c1.1 0 2-.9 2-2V5c0-1.1-.9-2-2-2zM9 17H7v-7h2v7zm4 0h-2V7h2v10zm4 0h-2v-4h2v4z\"/>\n",
              "    </g>\n",
              "</svg>\n",
              "      </button>\n",
              "    </div>\n",
              "\n",
              "<style>\n",
              "  .colab-df-quickchart {\n",
              "    background-color: #E8F0FE;\n",
              "    border: none;\n",
              "    border-radius: 50%;\n",
              "    cursor: pointer;\n",
              "    display: none;\n",
              "    fill: #1967D2;\n",
              "    height: 32px;\n",
              "    padding: 0 0 0 0;\n",
              "    width: 32px;\n",
              "  }\n",
              "\n",
              "  .colab-df-quickchart:hover {\n",
              "    background-color: #E2EBFA;\n",
              "    box-shadow: 0px 1px 2px rgba(60, 64, 67, 0.3), 0px 1px 3px 1px rgba(60, 64, 67, 0.15);\n",
              "    fill: #174EA6;\n",
              "  }\n",
              "\n",
              "  [theme=dark] .colab-df-quickchart {\n",
              "    background-color: #3B4455;\n",
              "    fill: #D2E3FC;\n",
              "  }\n",
              "\n",
              "  [theme=dark] .colab-df-quickchart:hover {\n",
              "    background-color: #434B5C;\n",
              "    box-shadow: 0px 1px 3px 1px rgba(0, 0, 0, 0.15);\n",
              "    filter: drop-shadow(0px 1px 2px rgba(0, 0, 0, 0.3));\n",
              "    fill: #FFFFFF;\n",
              "  }\n",
              "</style>\n",
              "\n",
              "    <script>\n",
              "      async function quickchart(key) {\n",
              "        const containerElement = document.querySelector('#' + key);\n",
              "        const charts = await google.colab.kernel.invokeFunction(\n",
              "            'suggestCharts', [key], {});\n",
              "      }\n",
              "    </script>\n",
              "\n",
              "      <script>\n",
              "\n",
              "function displayQuickchartButton(domScope) {\n",
              "  let quickchartButtonEl =\n",
              "    domScope.querySelector('#df-4eaf68bb-f6c2-44e1-9b52-2aab7a9cd559 button.colab-df-quickchart');\n",
              "  quickchartButtonEl.style.display =\n",
              "    google.colab.kernel.accessAllowed ? 'block' : 'none';\n",
              "}\n",
              "\n",
              "        displayQuickchartButton(document);\n",
              "      </script>\n",
              "      <style>\n",
              "    .colab-df-container {\n",
              "      display:flex;\n",
              "      flex-wrap:wrap;\n",
              "      gap: 12px;\n",
              "    }\n",
              "\n",
              "    .colab-df-convert {\n",
              "      background-color: #E8F0FE;\n",
              "      border: none;\n",
              "      border-radius: 50%;\n",
              "      cursor: pointer;\n",
              "      display: none;\n",
              "      fill: #1967D2;\n",
              "      height: 32px;\n",
              "      padding: 0 0 0 0;\n",
              "      width: 32px;\n",
              "    }\n",
              "\n",
              "    .colab-df-convert:hover {\n",
              "      background-color: #E2EBFA;\n",
              "      box-shadow: 0px 1px 2px rgba(60, 64, 67, 0.3), 0px 1px 3px 1px rgba(60, 64, 67, 0.15);\n",
              "      fill: #174EA6;\n",
              "    }\n",
              "\n",
              "    [theme=dark] .colab-df-convert {\n",
              "      background-color: #3B4455;\n",
              "      fill: #D2E3FC;\n",
              "    }\n",
              "\n",
              "    [theme=dark] .colab-df-convert:hover {\n",
              "      background-color: #434B5C;\n",
              "      box-shadow: 0px 1px 3px 1px rgba(0, 0, 0, 0.15);\n",
              "      filter: drop-shadow(0px 1px 2px rgba(0, 0, 0, 0.3));\n",
              "      fill: #FFFFFF;\n",
              "    }\n",
              "  </style>\n",
              "\n",
              "      <script>\n",
              "        const buttonEl =\n",
              "          document.querySelector('#df-f9659d1d-6179-4b8f-adbf-72acc6c019d2 button.colab-df-convert');\n",
              "        buttonEl.style.display =\n",
              "          google.colab.kernel.accessAllowed ? 'block' : 'none';\n",
              "\n",
              "        async function convertToInteractive(key) {\n",
              "          const element = document.querySelector('#df-f9659d1d-6179-4b8f-adbf-72acc6c019d2');\n",
              "          const dataTable =\n",
              "            await google.colab.kernel.invokeFunction('convertToInteractive',\n",
              "                                                     [key], {});\n",
              "          if (!dataTable) return;\n",
              "\n",
              "          const docLinkHtml = 'Like what you see? Visit the ' +\n",
              "            '<a target=\"_blank\" href=https://colab.research.google.com/notebooks/data_table.ipynb>data table notebook</a>'\n",
              "            + ' to learn more about interactive tables.';\n",
              "          element.innerHTML = '';\n",
              "          dataTable['output_type'] = 'display_data';\n",
              "          await google.colab.output.renderOutput(dataTable, element);\n",
              "          const docLink = document.createElement('div');\n",
              "          docLink.innerHTML = docLinkHtml;\n",
              "          element.appendChild(docLink);\n",
              "        }\n",
              "      </script>\n",
              "    </div>\n",
              "  </div>\n"
            ]
          },
          "metadata": {},
          "execution_count": 43
        }
      ],
      "source": [
        "df"
      ]
    }
  ],
  "metadata": {
    "kernelspec": {
      "display_name": "Python 3 (ipykernel)",
      "language": "python",
      "name": "python3"
    },
    "language_info": {
      "codemirror_mode": {
        "name": "ipython",
        "version": 3
      },
      "file_extension": ".py",
      "mimetype": "text/x-python",
      "name": "python",
      "nbconvert_exporter": "python",
      "pygments_lexer": "ipython3",
      "version": "3.9.7"
    },
    "colab": {
      "provenance": []
    }
  },
  "nbformat": 4,
  "nbformat_minor": 5
}